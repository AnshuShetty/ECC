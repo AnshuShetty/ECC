{
 "cells": [
  {
   "cell_type": "markdown",
   "id": "137f406d-4812-4696-8ceb-561ece1c4ad5",
   "metadata": {},
   "source": [
    "## Program1"
   ]
  },
  {
   "cell_type": "code",
   "execution_count": 53,
   "id": "64ecfacb-0649-4c10-86f0-f2c6ebfa4cb9",
   "metadata": {},
   "outputs": [
    {
     "name": "stdout",
     "output_type": "stream",
     "text": [
      "The total number of instances are :  4 \n",
      " [['sunny', 'warm', 'normal', 'strong', 'warm', 'same', 'yes'], ['sunny', 'warm', 'high', 'strong', 'warm', 'same', 'yes'], ['rainy', 'cold', 'high', 'strong', 'warm', 'change', 'no'], ['sunny', 'warm', 'high', 'strong', 'cool', 'change', 'yes']]\n",
      "the hypothesis for the training instances 0 is: \n",
      " ['0', '0', '0', '0', '0', '0']\n",
      "the hypothesis for the training instances 1 is: \n",
      " ['sunny', 'warm', 'normal', 'strong', 'warm', 'same']\n",
      "the hypothesis for the training instances 2 is: \n",
      " ['sunny', 'warm', '?', 'strong', 'warm', 'same']\n",
      "the hypothesis for the training instances 3 is: \n",
      " ['sunny', 'warm', '?', 'strong', 'warm', 'same']\n",
      "the hypothesis for the training instances 4 is: \n",
      " ['sunny', 'warm', '?', 'strong', '?', '?']\n",
      "Maximally specific hypothesis for the training instances are : \n",
      " ['sunny', 'warm', '?', 'strong', '?', '?']\n"
     ]
    }
   ],
   "source": [
    "import csv\n",
    "\n",
    "with open('enjoysport.csv', 'r') as file:\n",
    "    data = [row for row in csv.reader(file)]\n",
    "    print(\"The total number of instances are : \", len(data)-1, '\\n', data[1:])\n",
    "\n",
    "num_attributes = len(data[0])-1\n",
    "\n",
    "hypothesis = ['0']*num_attributes\n",
    "\n",
    "for i in range(0, len(data)):\n",
    "    if data[i][num_attributes] == 'yes':\n",
    "        for j in range(0, num_attributes):\n",
    "            if hypothesis[j] == '0' or hypothesis[j] == data[i][j]:\n",
    "                hypothesis[j] = data[i][j]\n",
    "            else:\n",
    "                hypothesis[j] = '?'\n",
    "    print(\"the hypothesis for the training instances {} is: \\n\" .format(i),hypothesis)\n",
    "print(\"Maximally specific hypothesis for the training instances are : \\n\", hypothesis)"
   ]
  },
  {
   "cell_type": "markdown",
   "id": "3c18011f-bf9e-4cfc-a3cb-34387fa18f0e",
   "metadata": {},
   "source": [
    "## Program 2"
   ]
  },
  {
   "cell_type": "code",
   "execution_count": 187,
   "id": "3f4c7d48-dc9b-44b6-adad-5253104a3254",
   "metadata": {},
   "outputs": [],
   "source": [
    "import pandas as pd"
   ]
  },
  {
   "cell_type": "code",
   "execution_count": 189,
   "id": "78a6b640-9142-4b11-89d9-971418805932",
   "metadata": {},
   "outputs": [
    {
     "name": "stdout",
     "output_type": "stream",
     "text": [
      "S0:  ['0', '0', '0', '0', '0'] \n",
      " G0:  ['0', '0', '0', '0', '0']\n"
     ]
    }
   ],
   "source": [
    "data = pd.read_csv('enjoysport.csv')\n",
    "concepts = data.iloc[:,:-1].values\n",
    "target = data.iloc[:,-1].values\n",
    "n = len(concepts[0])-1\n",
    "specific_h = ['0']*n\n",
    "generic_h = ['0']*n\n",
    "print(\"S0: \", specific_h, \"\\n G0: \", generic_h)"
   ]
  },
  {
   "cell_type": "code",
   "execution_count": 199,
   "id": "e4b6d8cf-cff0-4fa0-8501-d7363e689b13",
   "metadata": {},
   "outputs": [],
   "source": [
    "def learn(concepts, target):\n",
    "    specific_h = concepts[0].copy()\n",
    "    generic_h = [['?' for _ in range(len(specific_h))] for _ in range(len(specific_h))]\n",
    "\n",
    "    for i, h in enumerate(concepts):\n",
    "        if target[i] == 'yes':\n",
    "            print(f\"{i+1} training instance is positive:\", concepts[i])\n",
    "            for x in range(len(specific_h)):\n",
    "                if h[x] != specific_h[x]:\n",
    "                    specific_h[x] = '?'\n",
    "                    generic_h[x][x] = '?'\n",
    "        else:\n",
    "            print(f\"{i+1} training instance is negative:\", concepts[i])\n",
    "            for x in range(len(specific_h)):\n",
    "                if h[x] != specific_h[x]:\n",
    "                    generic_h[x][x] = specific_h[x]\n",
    "                else:\n",
    "                    generic_h[x][x] = '?'\n",
    "        print(f\"s{i+1}:\\n\", specific_h)\n",
    "        print(f\"g{i+1}:\\n\", generic_h)\n",
    "\n",
    "    generic_h = [h for h in generic_h if h != ['?' for _ in range(len(specific_h))]]\n",
    "    return specific_h, generic_h"
   ]
  },
  {
   "cell_type": "code",
   "execution_count": 201,
   "id": "bf128cc2-932d-42d9-911b-acb876f85666",
   "metadata": {},
   "outputs": [
    {
     "name": "stdout",
     "output_type": "stream",
     "text": [
      "1 training instance is positive: ['sunny' 'warm' 'normal' 'strong' 'warm' 'same']\n",
      "s1:\n",
      " ['sunny' 'warm' 'normal' 'strong' 'warm' 'same']\n",
      "g1:\n",
      " [['?', '?', '?', '?', '?', '?'], ['?', '?', '?', '?', '?', '?'], ['?', '?', '?', '?', '?', '?'], ['?', '?', '?', '?', '?', '?'], ['?', '?', '?', '?', '?', '?'], ['?', '?', '?', '?', '?', '?']]\n",
      "2 training instance is positive: ['sunny' 'warm' 'high' 'strong' 'warm' 'same']\n",
      "s2:\n",
      " ['sunny' 'warm' '?' 'strong' 'warm' 'same']\n",
      "g2:\n",
      " [['?', '?', '?', '?', '?', '?'], ['?', '?', '?', '?', '?', '?'], ['?', '?', '?', '?', '?', '?'], ['?', '?', '?', '?', '?', '?'], ['?', '?', '?', '?', '?', '?'], ['?', '?', '?', '?', '?', '?']]\n",
      "3 training instance is negative: ['rainy' 'cold' 'high' 'strong' 'warm' 'change']\n",
      "s3:\n",
      " ['sunny' 'warm' '?' 'strong' 'warm' 'same']\n",
      "g3:\n",
      " [['sunny', '?', '?', '?', '?', '?'], ['?', 'warm', '?', '?', '?', '?'], ['?', '?', '?', '?', '?', '?'], ['?', '?', '?', '?', '?', '?'], ['?', '?', '?', '?', '?', '?'], ['?', '?', '?', '?', '?', 'same']]\n",
      "4 training instance is positive: ['sunny' 'warm' 'high' 'strong' 'cool' 'change']\n",
      "s4:\n",
      " ['sunny' 'warm' '?' 'strong' '?' '?']\n",
      "g4:\n",
      " [['sunny', '?', '?', '?', '?', '?'], ['?', 'warm', '?', '?', '?', '?'], ['?', '?', '?', '?', '?', '?'], ['?', '?', '?', '?', '?', '?'], ['?', '?', '?', '?', '?', '?'], ['?', '?', '?', '?', '?', '?']]\n",
      "The final specific hypothesis:\n",
      "['sunny' 'warm' '?' 'strong' '?' '?']\n",
      "The final generic hypothesis:\n",
      "[['sunny', '?', '?', '?', '?', '?'], ['?', 'warm', '?', '?', '?', '?']]\n"
     ]
    }
   ],
   "source": [
    "s_final, g_final = learn(concepts, target)\n",
    "print(\"The final specific hypothesis:\")\n",
    "print(s_final)\n",
    "print(\"The final generic hypothesis:\")\n",
    "print(g_final)"
   ]
  },
  {
   "cell_type": "markdown",
   "id": "d6286a70-7b07-4273-a674-80a5a212ed3d",
   "metadata": {},
   "source": [
    "## Program 3"
   ]
  },
  {
   "cell_type": "code",
   "execution_count": 62,
   "id": "45ce38e1-e5c3-482e-b40a-cdc0f428cdd3",
   "metadata": {},
   "outputs": [],
   "source": [
    "import pandas as pd\n",
    "from sklearn.tree import DecisionTreeClassifier\n",
    "from sklearn.model_selection import train_test_split\n",
    "from sklearn.tree import export_graphviz\n",
    "from sklearn.preprocessing import LabelEncoder\n",
    "import graphviz"
   ]
  },
  {
   "cell_type": "code",
   "execution_count": 88,
   "id": "dbf50d0d-c113-4f15-b8f8-63c4135021f3",
   "metadata": {},
   "outputs": [
    {
     "data": {
      "text/plain": [
       "'Source.gv.pdf'"
      ]
     },
     "execution_count": 88,
     "metadata": {},
     "output_type": "execute_result"
    }
   ],
   "source": [
    "data = pd.read_csv('id3.csv')\n",
    "df = pd.DataFrame(data)\n",
    "\n",
    "label_encoder = LabelEncoder()\n",
    "for column in df.columns:\n",
    "    if df[column].dtype == 'object':\n",
    "        df[column] = label_encoder.fit_transform(df[column])\n",
    "\n",
    "x = df.drop('PlayTennis', axis = 1)\n",
    "y = df['PlayTennis']\n",
    "\n",
    "clf  =  DecisionTreeClassifier(criterion = 'entropy')\n",
    "\n",
    "clf.fit(x,y)\n",
    "\n",
    "dot_data = export_graphviz(clf, out_file = None , feature_names = x.columns, class_names = label_encoder.classes_, rounded=True, node_ids = True, filled = True, special_characters = True)\n",
    "graph = graphviz.Source(dot_data)\n",
    "graph.view()"
   ]
  },
  {
   "cell_type": "markdown",
   "id": "64e6d249-281f-436c-83d7-9cdf3ac0f18d",
   "metadata": {},
   "source": [
    "## Program 4"
   ]
  },
  {
   "cell_type": "code",
   "execution_count": 212,
   "id": "97ad3d31-6f56-477d-a489-1a4d601f1859",
   "metadata": {},
   "outputs": [],
   "source": [
    "# 6361337284\n",
    "import numpy as np\n",
    "x = np.array(([2,9], [1,5], [3,6]),dtype = float)\n",
    "y = np.array(([92], [89], [86]), dtype=float)\n",
    "x = x/np.amax(x, axis=0)\n",
    "y=y/100\n",
    "\n",
    "#sigmoid function\n",
    "def sigmoid(x):\n",
    "    return 1/ (1 + np.exp(-x))\n",
    "\n",
    "def derivatives_sigmoid(x):\n",
    "    return x * (1-x)\n",
    "\n",
    "epoch = 5000\n",
    "lr = 0.1\n",
    "inputlayer_neuron = 2\n",
    "hiddenlayer_neuron = 3\n",
    "outputlayer_neuron = 1\n"
   ]
  },
  {
   "cell_type": "code",
   "execution_count": 216,
   "id": "b3807dd0-3b9f-48f7-a2d5-4b5832668b32",
   "metadata": {},
   "outputs": [
    {
     "name": "stdout",
     "output_type": "stream",
     "text": [
      "Input: \n",
      "[[0.66666667 1.        ]\n",
      " [0.33333333 0.55555556]\n",
      " [1.         0.66666667]]\n",
      "Actual Output: \n",
      "[[0.92]\n",
      " [0.89]\n",
      " [0.86]]\n",
      "Predicted Output: \n",
      " [[0.89759413]\n",
      " [0.88143758]\n",
      " [0.88955898]]\n"
     ]
    }
   ],
   "source": [
    "wh = np.random.uniform(size=(inputlayer_neuron, hiddenlayer_neuron))\n",
    "bh = np.random.uniform(size=(1, hiddenlayer_neuron))\n",
    "wout = np.random.uniform(size=(hiddenlayer_neuron, outputlayer_neuron))\n",
    "bout = np.random.uniform(size = (1, outputlayer_neuron))\n",
    "\n",
    "for i in range(epoch):\n",
    "   #forward propogation\n",
    "    hinp1 = np.dot(x,wh)\n",
    "    hinp = hinp1+bh\n",
    "    hlayer_act =  sigmoid(hinp)\n",
    "    outinp1 = np.dot(hlayer_act, wout)\n",
    "    outinp = outinp1+bout\n",
    "    output = sigmoid(outinp)\n",
    "\n",
    "    #backward propogation\n",
    "    E0 = y - output\n",
    "    outgrad = derivatives_sigmoid(output)\n",
    "    d_output = E0*outgrad\n",
    "    EH = d_output.dot(wout.T) \n",
    "\n",
    "    hiddengrad = derivatives_sigmoid(hlayer_act)\n",
    "    d_hiddenlayer = EH * hiddengrad\n",
    "\n",
    "    wout += hlayer_act.T.dot(d_output) *lr\n",
    "    wh += x.T.dot(d_hiddenlayer) *lr\n",
    "\n",
    "print(\"Input: \\n\" + str(x)) \n",
    "print(\"Actual Output: \\n\" + str(y))\n",
    "print(\"Predicted Output: \\n\" ,output)"
   ]
  },
  {
   "cell_type": "markdown",
   "id": "b057df6a-1190-4c57-a6dd-d402d2baf825",
   "metadata": {},
   "source": [
    "## Program 5"
   ]
  },
  {
   "cell_type": "code",
   "execution_count": 90,
   "id": "e7131b69-1c0b-4c88-b8e8-bb99a1aa9ba2",
   "metadata": {},
   "outputs": [],
   "source": [
    "import pandas as pd\n",
    "from sklearn.model_selection import train_test_split\n",
    "from sklearn.naive_bayes import GaussianNB\n",
    "from sklearn import metrics"
   ]
  },
  {
   "cell_type": "code",
   "execution_count": 110,
   "id": "44003075-9ec2-4895-bd5f-f397057a94c3",
   "metadata": {},
   "outputs": [
    {
     "name": "stdout",
     "output_type": "stream",
     "text": [
      "Total number of training data is: (614, 1)\n",
      "Total number of testing is: (154, 1)\n",
      "Confusion matrix \n",
      "\n",
      "[[89 17]\n",
      " [23 25]]\n",
      "Accuracy: \n",
      "\n",
      "0.7402597402597403\n",
      "Precision: \n",
      "\n",
      "0.5952380952380952\n",
      "Reccall: \n",
      "\n",
      "0.5208333333333334\n",
      "predicted value: \n",
      "[0]\n"
     ]
    },
    {
     "name": "stderr",
     "output_type": "stream",
     "text": [
      "C:\\Users\\Dell\\anaconda3\\Lib\\site-packages\\sklearn\\utils\\validation.py:1184: DataConversionWarning: A column-vector y was passed when a 1d array was expected. Please change the shape of y to (n_samples, ), for example using ravel().\n",
      "  y = column_or_1d(y, warn=True)\n"
     ]
    }
   ],
   "source": [
    "df = pd.read_csv('pima_indian.csv')\n",
    "\n",
    "#define feature names and columns\n",
    "feature_col_names = ['num_preg', 'glucose_conc', 'diastolic_bp', 'thickness', 'bmi', 'insulin', 'diab_pred', 'age']\n",
    "pred_col_names = ['diabetes']\n",
    "\n",
    "#prepare feature and target values\n",
    "x = df[feature_col_names].values\n",
    "y = df[pred_col_names].values\n",
    "\n",
    "#split the data into train and test\n",
    "x_train, x_test, y_train, y_test = train_test_split(x,y, test_size = 0.2)\n",
    "\n",
    "print(f\"Total number of training data is: {y_train.shape}\")\n",
    "print(f\"Total number of testing is: {y_test.shape}\")\n",
    "\n",
    "clf = GaussianNB()\n",
    "clf.fit(x_train, y_train)\n",
    "\n",
    "#predictions\n",
    "predicted = clf.predict(x_test)\n",
    "predicted_test_data = clf.predict([[6, 148, 72, 35, 0, 33.6, 0.627, 50]])\n",
    "\n",
    "print(\"Confusion matrix \\n\")\n",
    "print(metrics.confusion_matrix(y_test, predicted))\n",
    "print(\"Accuracy: \\n\")\n",
    "print(metrics.accuracy_score(y_test, predicted))\n",
    "print(\"Precision: \\n\")\n",
    "print(metrics.precision_score(y_test, predicted))\n",
    "print(\"Reccall: \\n\")\n",
    "print(metrics.recall_score(y_test, predicted))\n",
    "print(\"predicted value: \")\n",
    "print(predicted_test_data)"
   ]
  },
  {
   "cell_type": "code",
   "execution_count": null,
   "id": "682c7586-300d-4a8d-84b5-27a952292073",
   "metadata": {},
   "outputs": [],
   "source": []
  }
 ],
 "metadata": {
  "kernelspec": {
   "display_name": "Python 3 (ipykernel)",
   "language": "python",
   "name": "python3"
  },
  "language_info": {
   "codemirror_mode": {
    "name": "ipython",
    "version": 3
   },
   "file_extension": ".py",
   "mimetype": "text/x-python",
   "name": "python",
   "nbconvert_exporter": "python",
   "pygments_lexer": "ipython3",
   "version": "3.11.5"
  }
 },
 "nbformat": 4,
 "nbformat_minor": 5
}
